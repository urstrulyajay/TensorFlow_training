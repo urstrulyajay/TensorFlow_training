{
  "nbformat": 4,
  "nbformat_minor": 0,
  "metadata": {
    "accelerator": "TPU",
    "colab": {
      "name": "QuickStartBeginners.ipynb",
      "provenance": []
    },
    "kernelspec": {
      "display_name": "Python 3",
      "name": "python3"
    },
    "language_info": {
      "name": "python"
    }
  },
  "cells": [
    {
      "cell_type": "code",
      "metadata": {
        "id": "qpBfCF2yTHeJ"
      },
      "source": [
        "import tensorflow as tf"
      ],
      "execution_count": 1,
      "outputs": []
    },
    {
      "cell_type": "code",
      "metadata": {
        "colab": {
          "base_uri": "https://localhost:8080/"
        },
        "id": "uhs6phuKf4L0",
        "outputId": "c0d5a341-bb4f-487c-ad93-258ed8955ca8"
      },
      "source": [
        "mnist = tf.keras.datasets.mnist\n",
        "\n",
        "(X_train,y_train),(X_test,y_test) = mnist.load_data()\n",
        "\n",
        "X_train,X_test = X_train/255.0, X_test/255.0"
      ],
      "execution_count": 2,
      "outputs": [
        {
          "output_type": "stream",
          "text": [
            "Downloading data from https://storage.googleapis.com/tensorflow/tf-keras-datasets/mnist.npz\n",
            "11493376/11490434 [==============================] - 0s 0us/step\n"
          ],
          "name": "stdout"
        }
      ]
    },
    {
      "cell_type": "code",
      "metadata": {
        "id": "U6akKi0HgNIy"
      },
      "source": [
        "model = tf.keras.models.Sequential(\n",
        "\n",
        "        [tf.keras.layers.Flatten(input_shape=(28,28)),\n",
        "        tf.keras.layers.Dense(128,activation='relu'),\n",
        "        tf.keras.layers.Dropout(0.2),\n",
        "        tf.keras.layers.Dense(10)]\n",
        ")"
      ],
      "execution_count": 4,
      "outputs": []
    },
    {
      "cell_type": "code",
      "metadata": {
        "colab": {
          "base_uri": "https://localhost:8080/"
        },
        "id": "K7U0iMWZgsNi",
        "outputId": "19ce47c9-d142-4b1b-b402-557464c6b6d9"
      },
      "source": [
        "model(X_train[:1]).numpy()"
      ],
      "execution_count": 6,
      "outputs": [
        {
          "output_type": "execute_result",
          "data": {
            "text/plain": [
              "array([[ 0.6083105 ,  0.88609695,  0.73975974,  0.50383687,  0.9937723 ,\n",
              "         0.66603816,  0.06530958,  0.02825314, -0.5851827 ,  0.23873052]],\n",
              "      dtype=float32)"
            ]
          },
          "metadata": {
            "tags": []
          },
          "execution_count": 6
        }
      ]
    },
    {
      "cell_type": "code",
      "metadata": {
        "colab": {
          "base_uri": "https://localhost:8080/"
        },
        "id": "5CTn9N9Sg7YX",
        "outputId": "cd0f2076-905f-4a55-9017-333bd704506a"
      },
      "source": [
        "tf.nn.softmax(model(X_train[:1]).numpy()).numpy()"
      ],
      "execution_count": 7,
      "outputs": [
        {
          "output_type": "execute_result",
          "data": {
            "text/plain": [
              "array([[0.11078791, 0.14626268, 0.1263514 , 0.0997976 , 0.16289072,\n",
              "        0.11737164, 0.06436801, 0.06202642, 0.03358651, 0.07655716]],\n",
              "      dtype=float32)"
            ]
          },
          "metadata": {
            "tags": []
          },
          "execution_count": 7
        }
      ]
    },
    {
      "cell_type": "code",
      "metadata": {
        "id": "6XNsVsevhsZa"
      },
      "source": [
        "loss_fn = tf.keras.losses.SparseCategoricalCrossentropy(from_logits=True)"
      ],
      "execution_count": 8,
      "outputs": []
    },
    {
      "cell_type": "code",
      "metadata": {
        "colab": {
          "base_uri": "https://localhost:8080/"
        },
        "id": "zr9pOACvh2Bp",
        "outputId": "b16073f6-d347-4e23-907d-4e32616d3eea"
      },
      "source": [
        "loss_fn(y_train[:1], model(X_train[:1]).numpy()).numpy()"
      ],
      "execution_count": 10,
      "outputs": [
        {
          "output_type": "execute_result",
          "data": {
            "text/plain": [
              "2.14241"
            ]
          },
          "metadata": {
            "tags": []
          },
          "execution_count": 10
        }
      ]
    },
    {
      "cell_type": "code",
      "metadata": {
        "id": "ba8zVdqDh8sh"
      },
      "source": [
        "model.compile(optimizer='adam',loss=loss_fn,metrics=[\"accuracy\"])"
      ],
      "execution_count": 11,
      "outputs": []
    },
    {
      "cell_type": "code",
      "metadata": {
        "colab": {
          "base_uri": "https://localhost:8080/"
        },
        "id": "ThbVK3o8iMfJ",
        "outputId": "6c300ac4-b51a-49d1-a4ff-e4bfec92c26b"
      },
      "source": [
        "model.fit(X_train,y_train,epochs=5)"
      ],
      "execution_count": 12,
      "outputs": [
        {
          "output_type": "stream",
          "text": [
            "Epoch 1/5\n",
            "1875/1875 [==============================] - 4s 2ms/step - loss: 0.4790 - accuracy: 0.8598\n",
            "Epoch 2/5\n",
            "1875/1875 [==============================] - 4s 2ms/step - loss: 0.1532 - accuracy: 0.9558\n",
            "Epoch 3/5\n",
            "1875/1875 [==============================] - 4s 2ms/step - loss: 0.1099 - accuracy: 0.9671\n",
            "Epoch 4/5\n",
            "1875/1875 [==============================] - 4s 2ms/step - loss: 0.0872 - accuracy: 0.9729\n",
            "Epoch 5/5\n",
            "1875/1875 [==============================] - 4s 2ms/step - loss: 0.0719 - accuracy: 0.9772\n"
          ],
          "name": "stdout"
        },
        {
          "output_type": "execute_result",
          "data": {
            "text/plain": [
              "<tensorflow.python.keras.callbacks.History at 0x7f6cd83b03d0>"
            ]
          },
          "metadata": {
            "tags": []
          },
          "execution_count": 12
        }
      ]
    },
    {
      "cell_type": "code",
      "metadata": {
        "colab": {
          "base_uri": "https://localhost:8080/"
        },
        "id": "vMAN-wtLiRv6",
        "outputId": "5e39b1bb-66d0-4216-c516-50efe2927154"
      },
      "source": [
        "model.evaluate(X_test,  y_test, verbose=2)"
      ],
      "execution_count": 14,
      "outputs": [
        {
          "output_type": "stream",
          "text": [
            "313/313 - 0s - loss: 0.0730 - accuracy: 0.9775\n"
          ],
          "name": "stdout"
        },
        {
          "output_type": "execute_result",
          "data": {
            "text/plain": [
              "[0.07304053008556366, 0.9775000214576721]"
            ]
          },
          "metadata": {
            "tags": []
          },
          "execution_count": 14
        }
      ]
    },
    {
      "cell_type": "code",
      "metadata": {
        "id": "cujfrqcviYgy"
      },
      "source": [
        "probability_model = tf.keras.Sequential([\n",
        "  model,\n",
        "  tf.keras.layers.Softmax()\n",
        "])"
      ],
      "execution_count": 15,
      "outputs": []
    },
    {
      "cell_type": "code",
      "metadata": {
        "colab": {
          "base_uri": "https://localhost:8080/"
        },
        "id": "tx80XvPhijKJ",
        "outputId": "246bbbea-8a6f-4d96-836c-dcc648d309e8"
      },
      "source": [
        "probability_model(X_test[:5])"
      ],
      "execution_count": 17,
      "outputs": [
        {
          "output_type": "execute_result",
          "data": {
            "text/plain": [
              "<tf.Tensor: shape=(5, 10), dtype=float32, numpy=\n",
              "array([[2.57393026e-07, 5.46193357e-09, 2.43757700e-06, 2.80268170e-04,\n",
              "        3.86511526e-12, 3.39733219e-07, 7.08047512e-14, 9.99710262e-01,\n",
              "        1.62195704e-07, 6.20652145e-06],\n",
              "       [3.34790617e-09, 4.28048588e-05, 9.99950409e-01, 2.57848740e-07,\n",
              "        3.46287556e-16, 7.50981144e-08, 6.26613961e-09, 5.12640094e-14,\n",
              "        6.43144494e-06, 5.23181388e-16],\n",
              "       [2.05804653e-08, 9.99764979e-01, 1.21946978e-04, 3.40456472e-06,\n",
              "        1.12769876e-05, 6.80948324e-06, 5.28516296e-07, 5.85358612e-05,\n",
              "        3.24191897e-05, 9.98747538e-08],\n",
              "       [9.99902725e-01, 9.57376667e-09, 6.93732800e-05, 1.13314016e-07,\n",
              "        3.74545664e-07, 8.82042059e-06, 5.33622961e-06, 3.74190972e-06,\n",
              "        4.25309679e-07, 9.11699317e-06],\n",
              "       [4.92582421e-06, 1.41943027e-10, 2.08393667e-05, 1.90136671e-08,\n",
              "        9.98074293e-01, 2.77817293e-07, 3.64988091e-06, 8.68377465e-05,\n",
              "        2.28036765e-06, 1.80697301e-03]], dtype=float32)>"
            ]
          },
          "metadata": {
            "tags": []
          },
          "execution_count": 17
        }
      ]
    },
    {
      "cell_type": "code",
      "metadata": {
        "id": "GR14wMsDiltm"
      },
      "source": [
        ""
      ],
      "execution_count": null,
      "outputs": []
    }
  ]
}